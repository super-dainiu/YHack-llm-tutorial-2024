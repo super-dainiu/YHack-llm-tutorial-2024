{
  "nbformat": 4,
  "nbformat_minor": 0,
  "metadata": {
    "colab": {
      "provenance": [],
      "include_colab_link": true
    },
    "kernelspec": {
      "name": "python3",
      "display_name": "Python 3"
    },
    "language_info": {
      "name": "python"
    }
  },
  "cells": [
    {
      "cell_type": "markdown",
      "metadata": {
        "id": "view-in-github",
        "colab_type": "text"
      },
      "source": [
        "<a href=\"https://colab.research.google.com/github/super-dainiu/YHack-llm-tutorial-2024/blob/main/YHACK_OpenAI_Tutorial.ipynb\" target=\"_parent\"><img src=\"https://colab.research.google.com/assets/colab-badge.svg\" alt=\"Open In Colab\"/></a>"
      ]
    },
    {
      "cell_type": "markdown",
      "source": [
        "# Configuration\n",
        "\n",
        "There are three ways to use OpenAI's GPT series:\n",
        "\n",
        "|                   | Pros                    | Cons                    |\n",
        "|-------------------|-------------------------|-------------------------|\n",
        "| ChatGPT           | Easy-to-use             | Less flexible           |\n",
        "| OpenAI API        | Flexible & Up-to-date   | Not compliant to HIPAA  |\n",
        "| Azure OpenAI API  | Compliant to HIPAA      | Features not up-to-date |\n",
        "\n",
        "*HIPAA: Health Insurance Portability and Accountability Act*\n",
        "\n",
        "In this tutorial, we will use GPT-3.5 and GPT-4 through Azure OpenAI (AOAI) API due to its HIPAA compliance."
      ],
      "metadata": {
        "id": "DbcyEiSqsHJh"
      }
    },
    {
      "cell_type": "code",
      "source": [
        "# install the openai package\n",
        "!pip install openai"
      ],
      "metadata": {
        "colab": {
          "base_uri": "https://localhost:8080/"
        },
        "id": "MwTdd9Cuv4BL",
        "outputId": "cc47b6a9-83b9-464f-ef45-6adb8c8522dd"
      },
      "execution_count": null,
      "outputs": [
        {
          "output_type": "stream",
          "name": "stdout",
          "text": [
            "Requirement already satisfied: openai in /usr/local/lib/python3.10/dist-packages (1.51.0)\n",
            "Requirement already satisfied: anyio<5,>=3.5.0 in /usr/local/lib/python3.10/dist-packages (from openai) (3.7.1)\n",
            "Requirement already satisfied: distro<2,>=1.7.0 in /usr/lib/python3/dist-packages (from openai) (1.7.0)\n",
            "Requirement already satisfied: httpx<1,>=0.23.0 in /usr/local/lib/python3.10/dist-packages (from openai) (0.27.2)\n",
            "Requirement already satisfied: jiter<1,>=0.4.0 in /usr/local/lib/python3.10/dist-packages (from openai) (0.5.0)\n",
            "Requirement already satisfied: pydantic<3,>=1.9.0 in /usr/local/lib/python3.10/dist-packages (from openai) (2.9.2)\n",
            "Requirement already satisfied: sniffio in /usr/local/lib/python3.10/dist-packages (from openai) (1.3.1)\n",
            "Requirement already satisfied: tqdm>4 in /usr/local/lib/python3.10/dist-packages (from openai) (4.66.5)\n",
            "Requirement already satisfied: typing-extensions<5,>=4.11 in /usr/local/lib/python3.10/dist-packages (from openai) (4.12.2)\n",
            "Requirement already satisfied: idna>=2.8 in /usr/local/lib/python3.10/dist-packages (from anyio<5,>=3.5.0->openai) (3.10)\n",
            "Requirement already satisfied: exceptiongroup in /usr/local/lib/python3.10/dist-packages (from anyio<5,>=3.5.0->openai) (1.2.2)\n",
            "Requirement already satisfied: certifi in /usr/local/lib/python3.10/dist-packages (from httpx<1,>=0.23.0->openai) (2024.8.30)\n",
            "Requirement already satisfied: httpcore==1.* in /usr/local/lib/python3.10/dist-packages (from httpx<1,>=0.23.0->openai) (1.0.6)\n",
            "Requirement already satisfied: h11<0.15,>=0.13 in /usr/local/lib/python3.10/dist-packages (from httpcore==1.*->httpx<1,>=0.23.0->openai) (0.14.0)\n",
            "Requirement already satisfied: annotated-types>=0.6.0 in /usr/local/lib/python3.10/dist-packages (from pydantic<3,>=1.9.0->openai) (0.7.0)\n",
            "Requirement already satisfied: pydantic-core==2.23.4 in /usr/local/lib/python3.10/dist-packages (from pydantic<3,>=1.9.0->openai) (2.23.4)\n"
          ]
        }
      ]
    },
    {
      "cell_type": "code",
      "execution_count": null,
      "metadata": {
        "id": "U7qpecGppcYp"
      },
      "outputs": [],
      "source": [
        "from openai import OpenAI\n",
        "import json\n",
        "\n",
        "# The API key is only valid during the tutorial\n",
        "client = OpenAI(\n",
        "\tapi_key=\"\",\n",
        ")\n",
        "\n",
        "# Normally, people put the API keys in the environment\n",
        "# client = OpenAI(\n",
        "#\t\tapi_key=os.getenv(\"OPENAI_API_KEY\"),\n",
        "#)\n",
        "\n",
        "# 1 minute coding"
      ]
    },
    {
      "cell_type": "markdown",
      "source": [
        "# Single-turn Prompting"
      ],
      "metadata": {
        "id": "bluF8ENYU15o"
      }
    },
    {
      "cell_type": "code",
      "source": [
        "# Let's first get one response working\n",
        "news = \"Bitcoin(BTC) Drops Below 62,000 USDT with a Narrowed 1.41% Increase in 24 Hours\"\n",
        "\n",
        "# messages: a message list, where each message is a dict containing a role and a content (minimally)\n",
        "messages = [\n",
        "    {\"role\": \"system\", \"content\": \"You are a helpful market analyst for cryptocurrency.\"},\n",
        "    {\"role\": \"user\", \"content\": f\"What's the market sentiment of this news? News: {news}\"},\n",
        "]\n",
        "\n",
        "# the response object is documented at https://platform.openai.com/docs/api-reference/chat/object\n",
        "# we provide gpt-35-turbo and gpt-4o in this tutorial\n",
        "response = client.chat.completions.create(\n",
        "    model=\"gpt-4o\",\n",
        "    messages=messages,\n",
        "    temperature=0,\n",
        ")\n",
        "\n",
        "# most important output is the response (i.e., assistant) message\n",
        "response_msg = response.choices[0].message.content\n",
        "\n",
        "print(response_msg)\n",
        "\n",
        "# 3 minutes coding"
      ],
      "metadata": {
        "colab": {
          "base_uri": "https://localhost:8080/"
        },
        "id": "c4qb8jUo3p5z",
        "outputId": "7553480a-3efc-4090-8a03-3ed1f3b8cdfc"
      },
      "execution_count": null,
      "outputs": [
        {
          "output_type": "stream",
          "name": "stdout",
          "text": [
            "The market sentiment from this news appears to be mixed. On one hand, the fact that Bitcoin has dropped below $62,000 could be seen as a negative indicator, suggesting a potential decline in investor confidence or a reaction to broader market conditions. On the other hand, the mention of a 1.41% increase in the past 24 hours indicates some positive momentum or recovery, which could be interpreted as a sign of resilience or short-term bullish sentiment.\n",
            "\n",
            "Overall, the sentiment might be cautiously optimistic, as the recent price increase suggests some buying interest or support at lower levels, but the drop below $62,000 could still be a point of concern for some investors. The market may be in a wait-and-see mode, looking for further signals or news to determine the next direction.\n"
          ]
        }
      ]
    },
    {
      "cell_type": "markdown",
      "source": [
        "# Multi-turn Conversation"
      ],
      "metadata": {
        "id": "CupYaUoRU8aG"
      }
    },
    {
      "cell_type": "code",
      "source": [
        "# we can also do multi-turn conversation\n",
        "# messages: a message list, where each message is a dict containing a role and a content (minimally)\n",
        "messages = [\n",
        "    {\"role\": \"system\", \"content\": \"You are a helpful market analyst for cryptocurrency.\"},\n",
        "    {\"role\": \"user\", \"content\": f\"What's the market sentiment of this news? News: {news}\"}\n",
        "]\n",
        "\n",
        "# first adding the previous assistant message to the conversation history\n",
        "messages.append(\n",
        "    {\n",
        "        \"role\": \"assistant\", # i.e., response.choices[0].message.role\n",
        "        \"content\": response_msg, # \"This news ...\"\n",
        "    }\n",
        ")\n",
        "\n",
        "# asking a second question\n",
        "messages.append(\n",
        "    {\n",
        "        \"role\": \"user\",\n",
        "        \"content\": \"Can you tell me about which coin I should invest?\"\n",
        "    }\n",
        ")\n",
        "\n",
        "# now the conversation history contains four messages\n",
        "print(\"=== Current Messages ===\")\n",
        "print(json.dumps(messages, indent=4))\n",
        "\n",
        "\n",
        "# gpt-4 with the same conversational history\n",
        "second_response_4o = client.chat.completions.create(\n",
        "    model=\"gpt-4o\",\n",
        "    messages=messages,\n",
        "    temperature=0,\n",
        ")\n",
        "\n",
        "response_msg_4o = second_response_4o.choices[0].message.content\n",
        "print(\"=== GPT-4 Response ===\")\n",
        "print(response_msg_4o)\n",
        "\n",
        "# 4 minutes coding"
      ],
      "metadata": {
        "colab": {
          "base_uri": "https://localhost:8080/"
        },
        "id": "10G1urhRqNx6",
        "outputId": "9b03116c-396e-4a5b-9a84-dc5c50b4db34"
      },
      "execution_count": null,
      "outputs": [
        {
          "output_type": "stream",
          "name": "stdout",
          "text": [
            "=== Current Messages ===\n",
            "[\n",
            "    {\n",
            "        \"role\": \"system\",\n",
            "        \"content\": \"You are a helpful market analyst for cryptocurrency.\"\n",
            "    },\n",
            "    {\n",
            "        \"role\": \"user\",\n",
            "        \"content\": \"What's the market sentiment of this news? News: Bitcoin(BTC) Drops Below 62,000 USDT with a Narrowed 1.41% Increase in 24 Hours\"\n",
            "    },\n",
            "    {\n",
            "        \"role\": \"assistant\",\n",
            "        \"content\": \"The market sentiment from this news appears to be mixed. On one hand, the fact that Bitcoin has dropped below $62,000 could be seen as a negative indicator, suggesting a potential decline in investor confidence or a reaction to broader market conditions. On the other hand, the mention of a 1.41% increase in the past 24 hours indicates some positive momentum or recovery, which could be interpreted as a sign of resilience or short-term bullish sentiment.\\n\\nOverall, the sentiment might be cautiously optimistic, as the recent price increase suggests some buying interest or support at lower levels, but the drop below $62,000 could still be a point of concern for some investors. The market may be in a wait-and-see mode, looking for further signals or news to determine the next direction.\"\n",
            "    },\n",
            "    {\n",
            "        \"role\": \"user\",\n",
            "        \"content\": \"Can you tell me about which coin I should invest?\"\n",
            "    }\n",
            "]\n",
            "=== GPT-4 Response ===\n",
            "As an AI, I don't provide specific investment advice or recommendations. However, I can offer some general guidance on how to approach cryptocurrency investments:\n",
            "\n",
            "1. **Research and Due Diligence**: Before investing in any cryptocurrency, it's crucial to conduct thorough research. Understand the technology behind the coin, its use case, the team involved, and its market position. Look for projects with strong fundamentals and a clear roadmap.\n",
            "\n",
            "2. **Diversification**: Consider diversifying your investments across multiple cryptocurrencies to spread risk. This can help mitigate the impact of volatility in any single asset.\n",
            "\n",
            "3. **Risk Tolerance**: Assess your risk tolerance and investment goals. Cryptocurrencies can be highly volatile, and it's important to invest only what you can afford to lose.\n",
            "\n",
            "4. **Market Trends**: Stay informed about market trends and news that could impact the cryptocurrency market. This includes regulatory developments, technological advancements, and macroeconomic factors.\n",
            "\n",
            "5. **Long-Term Perspective**: Consider a long-term investment strategy rather than trying to time the market. Many successful investors hold their positions through market fluctuations.\n",
            "\n",
            "6. **Consult Professionals**: If you're unsure, consider consulting with a financial advisor who has experience with cryptocurrencies.\n",
            "\n",
            "Remember, all investments carry risk, and the cryptocurrency market is particularly volatile. It's important to make informed decisions based on your own research and financial situation.\n"
          ]
        }
      ]
    },
    {
      "cell_type": "markdown",
      "source": [
        "# Temperature"
      ],
      "metadata": {
        "id": "zemoH_yxVM1V"
      }
    },
    {
      "cell_type": "code",
      "source": [
        "# how many completions to genereate\n",
        "N = 3\n",
        "\n",
        "# let's try 0, 0.5, 1, 1.5\n",
        "temperature = 0.5\n",
        "\n",
        "# single-turn prompting\n",
        "messages = [\n",
        "    {\"role\": \"system\", \"content\": \"You are a helpful market analyst for cryptocurrency.\"},\n",
        "    {\"role\": \"user\", \"content\": f\"What's the market sentiment of this news? News: {news}\"}\n",
        "]\n",
        "\n",
        "\n",
        "for i in range(N):\n",
        "    response = client.chat.completions.create(\n",
        "        model=\"gpt-4o\",\n",
        "        messages=messages,\n",
        "        temperature=temperature,\n",
        "    )\n",
        "    print(f\"=== Response {i} ===\")\n",
        "    print(response.choices[0].message.content)\n",
        "    print()\n",
        "\n",
        "# 3 minutes coding"
      ],
      "metadata": {
        "colab": {
          "base_uri": "https://localhost:8080/"
        },
        "id": "NJW49WlOUy2q",
        "outputId": "2effafc6-954c-46f1-d318-2eb49655cd5a"
      },
      "execution_count": null,
      "outputs": [
        {
          "output_type": "stream",
          "name": "stdout",
          "text": [
            "=== Response 0 ===\n",
            "The market sentiment of this news appears to be mixed or cautiously optimistic. On one hand, the headline suggests a drop in Bitcoin's price below a significant threshold of 62,000 USDT, which might indicate a bearish sentiment or concern among investors. However, the mention of a \"narrowed 1.41% increase in 24 hours\" suggests that despite the drop, Bitcoin has shown some resilience and managed to gain slightly in the past day, potentially indicating a bullish sentiment or at least some level of recovery.\n",
            "\n",
            "Overall, the sentiment could be interpreted as cautious optimism, where investors are aware of the recent dip but are also noticing the short-term recovery, possibly waiting to see if this trend continues or if the price stabilizes.\n",
            "\n",
            "=== Response 1 ===\n",
            "The market sentiment from this news appears to be cautiously optimistic or neutral. Here's why:\n",
            "\n",
            "1. **Price Drop**: The headline mentions that Bitcoin has dropped below 62,000 USDT, which could initially be perceived as negative. A drop in price might indicate selling pressure or a correction from previous highs.\n",
            "\n",
            "2. **24-Hour Increase**: Despite the drop below 62,000 USDT, the news also highlights a 1.41% increase over the past 24 hours. This suggests that, within the short term, there has been some positive price movement, indicating potential recovery or resilience.\n",
            "\n",
            "3. **Narrowed Increase**: The use of \"narrowed\" implies that the increase is modest and not a strong upward trend, which might contribute to a more neutral sentiment overall. It suggests that while there is some positive movement, it is not significant enough to signal a major bullish trend.\n",
            "\n",
            "Overall, the sentiment could be seen as cautiously optimistic due to the recent increase, but with some level of caution due to the price being below a notable threshold. Traders and investors might be waiting for further developments to determine a clearer trend direction.\n",
            "\n",
            "=== Response 2 ===\n",
            "The market sentiment from this news appears to be cautiously optimistic or neutral. Here's the breakdown:\n",
            "\n",
            "1. **Price Drop Below $62,000 USDT**: The fact that Bitcoin has dropped below a significant price level like $62,000 could be seen as a negative indicator, suggesting a potential decline in market confidence or selling pressure.\n",
            "\n",
            "2. **1.41% Increase in 24 Hours**: Despite the drop below $62,000, the 1.41% increase over the past 24 hours indicates that there is still some buying interest or recovery happening in the short term. This suggests resilience or a minor rebound in the market.\n",
            "\n",
            "Overall, the sentiment might be mixed, with some concern about the price drop but also a hint of optimism due to the recent increase. Traders and investors might be cautiously watching for further price movements to determine the next trend.\n",
            "\n"
          ]
        }
      ]
    }
  ]
}